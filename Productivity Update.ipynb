{
 "cells": [
  {
   "cell_type": "code",
   "execution_count": 30,
   "id": "62d75e7a-b641-4e0b-b9e9-b8c519c6f788",
   "metadata": {},
   "outputs": [],
   "source": [
    "import pandas as pd \n",
    "import os \n",
    "import sqlite3 \n",
    "import shutil\n",
    "import numpy as np\n",
    "from datetime import date\n",
    "import datetime\n",
    "import time\n",
    "import warnings\n",
    "\n",
    "warnings.filterwarnings(\"ignore\", category=UserWarning)\n",
    "\n",
    "pd.set_option('display.max_columns', None)\n",
    "pd.set_option('display.max_rows', None)\n",
    "\n",
    "\n",
    "production = sqlite3.connect('C:\\\\python_development\\\\productivity.db', timeout=120) "
   ]
  },
  {
   "cell_type": "code",
   "execution_count": 44,
   "id": "6eaea642-dedc-48ae-a58f-00e4f972caa7",
   "metadata": {},
   "outputs": [
    {
     "data": {
      "text/plain": [
       "967031"
      ]
     },
     "execution_count": 44,
     "metadata": {},
     "output_type": "execute_result"
    }
   ],
   "source": [
    "# import all raw data and write to database\n",
    "from datetime import datetime\n",
    "rvu = pd.read_csv(r'\\\\vault\\powerbiflatfiles$\\Production\\DW_PB_RVU_EXTRACT.txt', \n",
    "                  sep='|', \n",
    "                  low_memory=False, \n",
    "                  usecols=['IDENTITY_ID','Place_Of_Service_Name', 'Place_Of_Service_Id','Location_Name', 'Location_Id','Department_Name','Department_Id',\n",
    "                    'Bill_Area_Name', 'Billing_Provider_Id', 'Billing_Provider_Name', 'Pat_Enc_Csn_Id', 'Service_Date', \n",
    "                    'Mrn','Orig_Benefit_Plan_Id', 'Orig_Benefit_Plan_Name', 'Orig_Payor_Id', 'Orig_Payor_Name', 'Orig_Epic_Financial_Class', \n",
    "                    'Orig_Ucr_Financial_Class', 'Post_Date', 'Cpt_Code', 'Procedure', 'Payments','Charges', 'Wrvu', \n",
    "                    'Pos_Type_Name'], \n",
    "                  parse_dates=['Service_Date','Post_Date'])\n",
    "rvu.Payments = rvu.Payments * -1\n",
    "lookback_year = datetime.now().year - 3\n",
    "rvu = rvu[rvu.Post_Date >= f'7-1-{lookback_year}']\n",
    "# two billing providers need to be updated due to error: nandani gowda vs ashwin gowda, ken ballou vs leigh ballou\n",
    "# patch for two billing providers identified incorrectly in the data\n",
    "bill_prov_id_patch = {92388:269915,42066:70397}\n",
    "bill_prov_name_patch = {'BALLOU, LEIGH A':'BALLOU, KENNETH A','GOWDA, ASHWIN A':'GOWDA, NANDINI NETKAL'}\n",
    "rvu['Billing_Provider_Id'] = rvu['Billing_Provider_Id'].replace(bill_prov_id_patch)\n",
    "rvu['Billing_Provider_Name'] = rvu['Billing_Provider_Name'].replace(bill_prov_name_patch)\n",
    "\n",
    "rvu.drop_duplicates(inplace=True)\n",
    "rvu.to_sql('src_productivity', production, if_exists='replace', index=False)"
   ]
  },
  {
   "cell_type": "code",
   "execution_count": 34,
   "id": "0fd034e5-b8c3-4c0d-a3b2-026ba171b9ee",
   "metadata": {},
   "outputs": [
    {
     "data": {
      "text/plain": [
       "981633"
      ]
     },
     "execution_count": 34,
     "metadata": {},
     "output_type": "execute_result"
    }
   ],
   "source": [
    "# need to update this financial class grouping from the server\n",
    "# run the staging query\n",
    "stg_fact_rvu_fiscal_year_query = '''\n",
    "select \n",
    "IDENTITY_ID, l.location_name as Place_Of_Service_Name, Place_Of_Service_Id,f.Location_Name, f.Location_Id,\n",
    "Department_Name, Department_Id, Bill_Area_Name, \n",
    "case when Billing_Provider_Id is null then 99999 else Billing_Provider_Id end as Billing_Provider_Id, \n",
    "Billing_Provider_Name, Pat_Enc_Csn_Id, Service_Date, Mrn, Orig_Benefit_Plan_Id, Orig_Benefit_Plan_Name, Orig_Payor_Id, \n",
    "Orig_Payor_Name, Orig_Epic_Financial_Class, Orig_Ucr_Financial_Class, Post_Date, Cpt_Code, Procedure, \n",
    "Charges, Payments, Wrvu, Pos_Type_Name,\n",
    "c.financial_class,\n",
    "c.financial_class_grouping,\n",
    "d.month_start as post_monthyear,\n",
    "d.fiscal_yearmonth as FiscalMonthYear,\n",
    "d.fiscal_year as FiscalYear,\n",
    "d.fiscal_period as FiscalPeriod,\n",
    "d.calendar_month_name as Month,\n",
    "case \n",
    "    when l.location_name like \"%Inp%\" or l.location_name like \"%RANCHO SPRINGS MEDICAL CENTER I%\" \n",
    "        or l.location_name like \"%IP%\" or l.location_name like \"%HOSPITALIST%\" \n",
    "        or Pos_Type_Name like \"%Hospital%\"\n",
    "        then 'Inpatient'\n",
    "    else 'Outpatient' end as IP_OP_status\n",
    "from src_productivity as f\n",
    "inner join dim_date as d on f.Post_Date = d.Date\n",
    "left outer join financial_dimension as c on f.Orig_Payor_Id = c.payor_id and f.Orig_Benefit_Plan_Id = c.benefit_plan_id\n",
    "left outer join dim_location as l on f.Place_Of_Service_Id = l.location_id and l.location_type = \"Place of Service\"\n",
    " \n",
    "'''\n",
    "\n",
    "stg_fact_rvu_fiscal_year = pd.read_sql_query(stg_fact_rvu_fiscal_year_query, production)\n",
    "stg_fact_rvu_fiscal_year.drop_duplicates(inplace=True)\n",
    "stg_fact_rvu_fiscal_year.to_sql('stg_productivity', production, if_exists='replace', index=False)"
   ]
  },
  {
   "cell_type": "code",
   "execution_count": 48,
   "id": "586bd7c3-a76d-4962-b36a-7e7eba946d3a",
   "metadata": {},
   "outputs": [
    {
     "name": "stdout",
     "output_type": "stream",
     "text": [
      "959901\n",
      "959901\n",
      "343252.77\n"
     ]
    }
   ],
   "source": [
    "# complete the reporting model and create the file\n",
    "rvu_data_model = '''\n",
    "select\n",
    "rf.*,\n",
    "pd.provider_name,\n",
    "pd.activity_code,\n",
    "pd.activity_name,\n",
    "pd.subdivision_name,\n",
    "case \n",
    "    when rf.IP_OP_status = 'Inpatient'\n",
    "    and pd.inpatient_specialty is not null then pd.inpatient_specialty\n",
    "    else pd.primary_specialty end as provider_specialty,\n",
    "case \n",
    "    when rf.IP_OP_status = 'Inpatient'\n",
    "    and pd.inpatient_specialty_id is not null then pd.inpatient_specialty_id\n",
    "    else pd.primary_specialty_id end as provider_specialty_id,\n",
    "case \n",
    "    when rf.IP_OP_status = 'Inpatient'\n",
    "    and pd.inpatient_specialty_id is not null \n",
    "    then \n",
    "    strftime('%Y', FiscalMonthYear) || '-' || cast(provider_id as int) || '-' || cast(pd.inpatient_specialty_id as str)\n",
    "    else \n",
    "    strftime('%Y', FiscalMonthYear) || '-' || cast(provider_id as int) || '-' || cast(pd.primary_specialty_id as str)\n",
    "    end as kpi_model_join, \n",
    "case \n",
    "    when rf.IP_OP_status = 'Inpatient'\n",
    "    and pd.inpatient_specialty_id is not null \n",
    "    then \n",
    "    (cast(pd.provider_id as str) || \"-\" || strftime(\"%Y_%m\", FiscalMonthYear) || \"-\" || cast(pd.inpatient_specialty_id as str))\n",
    "    else \n",
    "    (cast(pd.provider_id as str) || \"-\" || strftime(\"%Y_%m\", FiscalMonthYear) || \"-\" || cast(pd.primary_specialty_id as str))\n",
    "    end as provider_specialty_fiscalyearmonth\n",
    "from stg_fact_rvu_fiscal_year_2y as rf\n",
    "left outer join vw_provider_dimension as pd on rf.Billing_Provider_Id = pd.provider_id\n",
    "\n",
    "'''\n",
    "rvu_query = pd.read_sql_query(rvu_data_model, production)\n",
    "rvu_query.drop_duplicates(inplace=True)\n",
    "print(rvu_query.shape[0])\n",
    "null_provider = rvu_query[rvu_query.provider_specialty.isna() == True]\n",
    "rvu_data = rvu_query[rvu_query.provider_specialty.isna() == False]\n",
    "print(rvu_data.shape[0])\n",
    "print(rvu_data.Wrvu.sum())\n",
    "rvu_data.to_sql('rpt_productivity', production, if_exists='replace', index=False)\n",
    "rvu_query.to_csv('C:\\\\python_development\\\\report_csv\\\\rpt_productivity.csv', index=False)"
   ]
  },
  {
   "cell_type": "code",
   "execution_count": 49,
   "id": "dfe0dff9-5bb5-4deb-a8dc-f139121cc46b",
   "metadata": {},
   "outputs": [
    {
     "data": {
      "text/html": [
       "<div>\n",
       "<style scoped>\n",
       "    .dataframe tbody tr th:only-of-type {\n",
       "        vertical-align: middle;\n",
       "    }\n",
       "\n",
       "    .dataframe tbody tr th {\n",
       "        vertical-align: top;\n",
       "    }\n",
       "\n",
       "    .dataframe thead th {\n",
       "        text-align: right;\n",
       "    }\n",
       "</style>\n",
       "<table border=\"1\" class=\"dataframe\">\n",
       "  <thead>\n",
       "    <tr style=\"text-align: right;\">\n",
       "      <th></th>\n",
       "      <th>IDENTITY_ID</th>\n",
       "      <th>Place_Of_Service_Name</th>\n",
       "      <th>Place_Of_Service_Id</th>\n",
       "      <th>Location_Name</th>\n",
       "      <th>Location_Id</th>\n",
       "      <th>Department_Name</th>\n",
       "      <th>Department_Id</th>\n",
       "      <th>Bill_Area_Name</th>\n",
       "      <th>Billing_Provider_Id</th>\n",
       "      <th>Billing_Provider_Name</th>\n",
       "      <th>Pat_Enc_Csn_Id</th>\n",
       "      <th>Service_Date</th>\n",
       "      <th>Mrn</th>\n",
       "      <th>Orig_Benefit_Plan_Id</th>\n",
       "      <th>Orig_Benefit_Plan_Name</th>\n",
       "      <th>Orig_Payor_Id</th>\n",
       "      <th>Orig_Payor_Name</th>\n",
       "      <th>Orig_Epic_Financial_Class</th>\n",
       "      <th>Orig_Ucr_Financial_Class</th>\n",
       "      <th>Post_Date</th>\n",
       "      <th>Cpt_Code</th>\n",
       "      <th>Procedure</th>\n",
       "      <th>Charges</th>\n",
       "      <th>Payments</th>\n",
       "      <th>Wrvu</th>\n",
       "      <th>Pos_Type_Name</th>\n",
       "      <th>financial_class</th>\n",
       "      <th>financial_class_grouping</th>\n",
       "      <th>post_monthyear</th>\n",
       "      <th>FiscalMonthYear</th>\n",
       "      <th>FiscalYear</th>\n",
       "      <th>FiscalPeriod</th>\n",
       "      <th>Month</th>\n",
       "      <th>IP_OP_status</th>\n",
       "      <th>provider_name</th>\n",
       "      <th>activity_code</th>\n",
       "      <th>activity_name</th>\n",
       "      <th>subdivision_name</th>\n",
       "      <th>provider_specialty</th>\n",
       "      <th>provider_specialty_id</th>\n",
       "      <th>kpi_model_join</th>\n",
       "      <th>provider_specialty_fiscalyearmonth</th>\n",
       "    </tr>\n",
       "  </thead>\n",
       "  <tbody>\n",
       "  </tbody>\n",
       "</table>\n",
       "</div>"
      ],
      "text/plain": [
       "Empty DataFrame\n",
       "Columns: [IDENTITY_ID, Place_Of_Service_Name, Place_Of_Service_Id, Location_Name, Location_Id, Department_Name, Department_Id, Bill_Area_Name, Billing_Provider_Id, Billing_Provider_Name, Pat_Enc_Csn_Id, Service_Date, Mrn, Orig_Benefit_Plan_Id, Orig_Benefit_Plan_Name, Orig_Payor_Id, Orig_Payor_Name, Orig_Epic_Financial_Class, Orig_Ucr_Financial_Class, Post_Date, Cpt_Code, Procedure, Charges, Payments, Wrvu, Pos_Type_Name, financial_class, financial_class_grouping, post_monthyear, FiscalMonthYear, FiscalYear, FiscalPeriod, Month, IP_OP_status, provider_name, activity_code, activity_name, subdivision_name, provider_specialty, provider_specialty_id, kpi_model_join, provider_specialty_fiscalyearmonth]\n",
       "Index: []"
      ]
     },
     "execution_count": 49,
     "metadata": {},
     "output_type": "execute_result"
    }
   ],
   "source": [
    "# update the null providers table\n",
    "null_provider.to_csv('C:\\\\python_development\\\\report_csv\\\\null_provider.csv', index=False)\n",
    "\n",
    "null_provider.to_sql('src_null_provider', production, if_exists='replace', index=False)\n",
    "# should just look at all of them, but focus on the identifier subset \n",
    "null_provider"
   ]
  },
  {
   "cell_type": "code",
   "execution_count": 52,
   "id": "20f8f811-432c-4b45-8e86-771baaef1666",
   "metadata": {},
   "outputs": [
    {
     "name": "stdout",
     "output_type": "stream",
     "text": [
      "343252.77\n"
     ]
    }
   ],
   "source": [
    "# write the monthly files and prepare files for export to the vault\n",
    "vw_complete_monthly_rvu_data_model = pd.read_sql_query('select * from vw_monthly_productivity', production)\n",
    "vw_complete_monthly_rvu_data_model.drop_duplicates(inplace=True)\n",
    "print(vw_complete_monthly_rvu_data_model.monthly_wrvu.sum())\n",
    "vw_complete_monthly_rvu_data_model.to_csv('C:\\\\python_development\\\\report_csv\\\\monthly_productivity.csv', index=False)"
   ]
  },
  {
   "cell_type": "code",
   "execution_count": 54,
   "id": "d1cbe5a2-096f-4724-b206-8b4bfe8b9741",
   "metadata": {},
   "outputs": [
    {
     "data": {
      "text/plain": [
       "'V:\\\\Production\\\\Data_Model\\\\export_csv\\\\monthly_productivity.csv'"
      ]
     },
     "execution_count": 54,
     "metadata": {},
     "output_type": "execute_result"
    }
   ],
   "source": [
    "# export files to the vault\n",
    "shutil.copy2('C:\\\\python_development\\\\report_csv\\\\rpt_productivity.csv','V:\\\\Production\\\\Data_Model\\\\export_csv\\\\rpt_productivity.csv')\n",
    "shutil.copy2('C:\\\\python_development\\\\report_csv\\\\monthly_productivity.csv',\n",
    "             'V:\\\\Production\\\\Data_Model\\\\export_csv\\\\monthly_productivity.csv')"
   ]
  },
  {
   "cell_type": "code",
   "execution_count": null,
   "id": "56950f66-eec1-42ec-a935-bb6dd4a54c5f",
   "metadata": {},
   "outputs": [],
   "source": []
  },
  {
   "cell_type": "code",
   "execution_count": null,
   "id": "383e9fb0-d35a-4bcb-b048-4c0abb5672c6",
   "metadata": {},
   "outputs": [],
   "source": []
  },
  {
   "cell_type": "code",
   "execution_count": null,
   "id": "b4809dbf-38fa-40ec-a5e3-ebb082281554",
   "metadata": {},
   "outputs": [],
   "source": []
  },
  {
   "cell_type": "code",
   "execution_count": null,
   "id": "bf25b6a0-2eb4-40c3-bfc5-81a41a6e94cc",
   "metadata": {},
   "outputs": [],
   "source": []
  }
 ],
 "metadata": {
  "kernelspec": {
   "display_name": "Python 3 (ipykernel)",
   "language": "python",
   "name": "python3"
  },
  "language_info": {
   "codemirror_mode": {
    "name": "ipython",
    "version": 3
   },
   "file_extension": ".py",
   "mimetype": "text/x-python",
   "name": "python",
   "nbconvert_exporter": "python",
   "pygments_lexer": "ipython3",
   "version": "3.12.3"
  }
 },
 "nbformat": 4,
 "nbformat_minor": 5
}
