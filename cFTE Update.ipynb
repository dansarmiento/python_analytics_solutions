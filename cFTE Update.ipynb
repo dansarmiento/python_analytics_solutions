{
 "cells": [
  {
   "cell_type": "code",
   "execution_count": null,
   "id": "aa6aa64f-742f-4e08-9410-879af283978d",
   "metadata": {},
   "outputs": [],
   "source": [
    "# update cfte\n",
    "# import new mgma benchmarks\n",
    "\n",
    "\n",
    "\n",
    "import pandas as pd \n",
    "import os \n",
    "import sqlite3 \n",
    "import shutil\n",
    "import numpy as np\n",
    "from datetime import date\n",
    "import datetime\n",
    "import time\n",
    "import warnings\n",
    "\n",
    "warnings.filterwarnings(\"ignore\", category=UserWarning)\n",
    "\n",
    "pd.set_option('display.max_columns', None)\n",
    "pd.set_option('display.max_rows', None)\n",
    "\n",
    "\n",
    "production = sqlite3.connect('C:\\\\python_development\\\\productivity.db', timeout=30) "
   ]
  },
  {
   "cell_type": "code",
   "execution_count": null,
   "id": "01d47117-333a-471a-9002-19dd3b0fcaed",
   "metadata": {},
   "outputs": [],
   "source": [
    "# load the cfte file into the vault folder and then check it before updating the table\n",
    "df = pd.read_excel('V:\\\\Production\\\\Data_Model\\\\cfte\\\\cFTE_source_model.xlsx', sheet_name='FY_2025_update')\n",
    "df.pop('Comments')\n",
    "df.head()"
   ]
  },
  {
   "cell_type": "code",
   "execution_count": null,
   "id": "5d20de33-636a-4927-84c7-77aeef6235f4",
   "metadata": {},
   "outputs": [],
   "source": [
    "# check for nulls on provider_id, provider_specialty_id, FiscalYear, and budgeted_cFTE\n",
    "null_counts = df[['provider_id', 'provider_specialty_id', 'FiscalYear', 'budgeted_cFTE']].isnull().sum()\n",
    "print(null_counts)"
   ]
  },
  {
   "cell_type": "code",
   "execution_count": null,
   "id": "9af86505-9f4a-4f17-a12f-fc604c0af92b",
   "metadata": {},
   "outputs": [],
   "source": [
    "# if the data looks fine, load it into the sqlite database\n",
    "df.to_sql('src_provider_cFTE', production, if_exists='replace', index=False)"
   ]
  },
  {
   "cell_type": "code",
   "execution_count": null,
   "id": "9c0a7b43-f46b-4adf-b40a-6c1b35a9857c",
   "metadata": {},
   "outputs": [],
   "source": [
    "# cfte export for sql server\n",
    "df.to_csv('C:\\\\python_development\\\\report_csv\\\\src_provider_cFTE.txt', index=False, sep='\\t')\n",
    "shutil.copy2('C:\\\\python_development\\\\report_csv\\\\src_provider_cFTE.txt','V:\\\\Production\\\\Data_Model\\\\sql_server_import\\\\src_provider_cFTE.txt')"
   ]
  }
 ],
 "metadata": {
  "kernelspec": {
   "display_name": "Python 3 (ipykernel)",
   "language": "python",
   "name": "python3"
  },
  "language_info": {
   "codemirror_mode": {
    "name": "ipython",
    "version": 3
   },
   "file_extension": ".py",
   "mimetype": "text/x-python",
   "name": "python",
   "nbconvert_exporter": "python",
   "pygments_lexer": "ipython3",
   "version": "3.12.3"
  }
 },
 "nbformat": 4,
 "nbformat_minor": 5
}
