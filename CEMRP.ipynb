{
 "cells": [
  {
   "cell_type": "code",
   "execution_count": 50,
   "id": "a2175ef3-7b96-44ae-a607-7a3b9952cb91",
   "metadata": {},
   "outputs": [],
   "source": [
    "import pyodbc\n",
    "import pandas as pd\n",
    "import os \n",
    "import sqlite3 \n",
    "import shutil\n",
    "from sqlalchemy import create_engine\n",
    "import urllib\n",
    "from openpyxl import load_workbook\n",
    "import openpyxl\n",
    "\n",
    "# SQLAlchemy\n",
    "# Database connection details\n",
    "server = 'PRD-APP-PBI-GW\\\\UCRHEALTH_PROD'  \n",
    "database = 'ucr_health'  \n",
    "username = 'ucr_svc_analytics'  \n",
    "\n",
    "\n",
    "# Construct the connection string\n",
    "connection_string = f'DRIVER={{ODBC Driver 17 for SQL Server}};SERVER={server};DATABASE={database};UID={username};PWD={password}'\n",
    "encoded_conn_str = urllib.parse.quote_plus(connection_string)\n",
    "\n",
    "# Create the SQLAlchemy engine \n",
    "engine = create_engine(f'mssql+pyodbc:///?odbc_connect={encoded_conn_str}')\n",
    "\n",
    "# Read query results directly into a DataFrame\n",
    "df = pd.read_sql('SELECT * FROM [rpt].[vw_cemrp_encounters]', engine)\n",
    "\n",
    "\n",
    "# Close the connection (optional with SQLAlchemy, but good practice)\n",
    "engine.dispose() "
   ]
  },
  {
   "cell_type": "code",
   "execution_count": 52,
   "id": "8ae7bca7-02e5-4080-b6f4-15ffc795dd2f",
   "metadata": {},
   "outputs": [],
   "source": [
    "# get all the quarters in a variable for processing the rolling median moving forward a quarter at a time\n",
    "all_quarters = df.year_quarter.unique()"
   ]
  },
  {
   "cell_type": "code",
   "execution_count": 54,
   "id": "98cf5a4e-7d1e-4acb-8d16-df96d390bc70",
   "metadata": {},
   "outputs": [
    {
     "name": "stdout",
     "output_type": "stream",
     "text": [
      "[array(['2022_Q1', '2022_Q2', '2022_Q3', '2022_Q4'], dtype=object), array(['2022_Q2', '2022_Q3', '2022_Q4', '2023_Q1'], dtype=object), array(['2022_Q3', '2022_Q4', '2023_Q1', '2023_Q2'], dtype=object), array(['2022_Q4', '2023_Q1', '2023_Q2', '2023_Q3'], dtype=object), array(['2023_Q1', '2023_Q2', '2023_Q3', '2023_Q4'], dtype=object), array(['2023_Q2', '2023_Q3', '2023_Q4', '2024_Q1'], dtype=object), array(['2023_Q3', '2023_Q4', '2024_Q1', '2024_Q2'], dtype=object), array(['2023_Q4', '2024_Q1', '2024_Q2', '2024_Q3'], dtype=object), array(['2024_Q1', '2024_Q2', '2024_Q3', '2024_Q4'], dtype=object), array(['2024_Q2', '2024_Q3', '2024_Q4', '2025_Q1'], dtype=object)]\n"
     ]
    }
   ],
   "source": [
    "# rolling median for quarters in CEMRP reporting \n",
    "\n",
    "def create_rolling_lists(quarters):\n",
    "    rolling_medians = []  # Initialize the list to store rolling lists\n",
    "    for i in range(len(quarters) - 3):\n",
    "        rolling_list = quarters[i:i+4]\n",
    "        rolling_medians.append(rolling_list)\n",
    "    return rolling_medians  # Return the rolling lists\n",
    "\n",
    "# Call the function and store the result in a variable\n",
    "rolling_medians = create_rolling_lists(all_quarters)\n",
    "\n",
    "# Now you can print the rolling_medians\n",
    "print(rolling_medians)"
   ]
  },
  {
   "cell_type": "code",
   "execution_count": 56,
   "id": "4a95de5a-79b5-4073-a485-9d8444f1832b",
   "metadata": {},
   "outputs": [
    {
     "name": "stdout",
     "output_type": "stream",
     "text": [
      "                     Year_Quarter_Array  Days_to_Appt_Median\n",
      "0  [2022_Q1, 2022_Q2, 2022_Q3, 2022_Q4]                 13.0\n",
      "1  [2022_Q2, 2022_Q3, 2022_Q4, 2023_Q1]                 13.0\n",
      "2  [2022_Q3, 2022_Q4, 2023_Q1, 2023_Q2]                 14.0\n",
      "3  [2022_Q4, 2023_Q1, 2023_Q2, 2023_Q3]                 13.0\n",
      "4  [2023_Q1, 2023_Q2, 2023_Q3, 2023_Q4]                 14.0\n",
      "5  [2023_Q2, 2023_Q3, 2023_Q4, 2024_Q1]                 13.0\n",
      "6  [2023_Q3, 2023_Q4, 2024_Q1, 2024_Q2]                 13.0\n",
      "7  [2023_Q4, 2024_Q1, 2024_Q2, 2024_Q3]                 14.0\n",
      "8  [2024_Q1, 2024_Q2, 2024_Q3, 2024_Q4]                 14.0\n",
      "9  [2024_Q2, 2024_Q3, 2024_Q4, 2025_Q1]                 15.0\n"
     ]
    },
    {
     "name": "stderr",
     "output_type": "stream",
     "text": [
      "C:\\Users\\dsarmien\\AppData\\Local\\Temp\\ipykernel_14288\\4236659718.py:6: SettingWithCopyWarning: \n",
      "A value is trying to be set on a copy of a slice from a DataFrame.\n",
      "Try using .loc[row_indexer,col_indexer] = value instead\n",
      "\n",
      "See the caveats in the documentation: https://pandas.pydata.org/pandas-docs/stable/user_guide/indexing.html#returning-a-view-versus-a-copy\n",
      "  new_pt['days_to_appt'] = pd.to_numeric(new_pt['days_to_appt'], errors='coerce')\n",
      "C:\\Users\\dsarmien\\AppData\\Local\\Temp\\ipykernel_14288\\4236659718.py:20: FutureWarning: The behavior of DataFrame concatenation with empty or all-NA entries is deprecated. In a future version, this will no longer exclude empty or all-NA columns when determining the result dtypes. To retain the old behavior, exclude the relevant entries before the concat operation.\n",
      "  results_df = pd.concat([results_df, new_row], ignore_index=True)\n"
     ]
    }
   ],
   "source": [
    "new_pt = df[df.patient_status == 'new_patient']\n",
    "# Initialize an empty DataFrame\n",
    "results_df = pd.DataFrame(columns=['Year_Quarter_Array', 'Days_to_Appt_Median'])\n",
    "\n",
    "# Convert the 'days_to_appt' column to numeric, coercing errors to NaN\n",
    "new_pt['days_to_appt'] = pd.to_numeric(new_pt['days_to_appt'], errors='coerce')\n",
    "\n",
    "# Loop through the rolling_medians and calculate the medians\n",
    "for median in rolling_medians:\n",
    "    year_quarter_array = median  # The array of quarters\n",
    "    days_to_appt_median = new_pt[new_pt.year_quarter.isin(median)].days_to_appt.median()  # The median for days to appointment\n",
    "    \n",
    "    # Create a new DataFrame with the current row data\n",
    "    new_row = pd.DataFrame({\n",
    "        'Year_Quarter_Array': [year_quarter_array],\n",
    "        'Days_to_Appt_Median': [days_to_appt_median]\n",
    "    })\n",
    "    \n",
    "    # Concatenate the new row to the results DataFrame\n",
    "    results_df = pd.concat([results_df, new_row], ignore_index=True)\n",
    "\n",
    "# Display the results as a DataFrame\n",
    "print(results_df)"
   ]
  },
  {
   "cell_type": "code",
   "execution_count": 58,
   "id": "c840d04c-4f5b-4f28-9e8e-1bd7c1256461",
   "metadata": {},
   "outputs": [
    {
     "data": {
      "text/plain": [
       "14.0"
      ]
     },
     "execution_count": 58,
     "metadata": {},
     "output_type": "execute_result"
    }
   ],
   "source": [
    "new_pt[new_pt.calendar_year == 2024].days_to_appt.median()"
   ]
  },
  {
   "cell_type": "code",
   "execution_count": null,
   "id": "7a08ac7e-1a0e-4c09-ae79-7f645c4f3dfc",
   "metadata": {},
   "outputs": [],
   "source": []
  }
 ],
 "metadata": {
  "kernelspec": {
   "display_name": "Python 3 (ipykernel)",
   "language": "python",
   "name": "python3"
  },
  "language_info": {
   "codemirror_mode": {
    "name": "ipython",
    "version": 3
   },
   "file_extension": ".py",
   "mimetype": "text/x-python",
   "name": "python",
   "nbconvert_exporter": "python",
   "pygments_lexer": "ipython3",
   "version": "3.12.3"
  }
 },
 "nbformat": 4,
 "nbformat_minor": 5
}
